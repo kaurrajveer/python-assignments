{
 "cells": [
  {
   "cell_type": "code",
   "execution_count": 2,
   "metadata": {},
   "outputs": [
    {
     "name": "stdout",
     "output_type": "stream",
     "text": [
      "I am from Sweden\n",
      "I am from India\n",
      "I am from Brazil\n"
     ]
    }
   ],
   "source": [
    "def my_function(country = \"Norway\"):\n",
    "  print(\"I am from \" + country)\n",
    "\n",
    "my_function(\"Sweden\")\n",
    "my_function(\"India\")\n",
    "\n",
    "my_function(\"Brazil\")\n"
   ]
  },
  {
   "cell_type": "code",
   "execution_count": null,
   "metadata": {},
   "outputs": [],
   "source": [
    "a=int(input())\n",
    "b=int(input())\n",
    "c=int(input())\n",
    "\n",
    "def maximum(a,b,c):\n",
    "    list=[a,b,c]\n",
    "    return max(list)\n",
    "print(maximum(a,b,c))\n",
    "    \n",
    "\n",
    "\n",
    "\n",
    "        \n",
    "        \n",
    "    \n",
    "\n",
    "        \n",
    "   \n",
    "\n"
   ]
  },
  {
   "cell_type": "code",
   "execution_count": null,
   "metadata": {},
   "outputs": [],
   "source": [
    "a=int(input())\n",
    "for i in range(a):\n",
    "    numberlist=int(input())\n",
    "def numsum(numberlist):\n",
    "    sum=0\n",
    "    for i in numberlist:\n",
    "        sum=sum+i\n",
    "    return thesum\n",
    "print(numsum(numberlist))"
   ]
  },
  {
   "cell_type": "code",
   "execution_count": 1,
   "metadata": {},
   "outputs": [
    {
     "name": "stdout",
     "output_type": "stream",
     "text": [
      "3\n",
      "2\n",
      "1\n",
      "4\n",
      "7\n"
     ]
    }
   ],
   "source": [
    "list=[]\n",
    "sum1=0\n",
    "n=int(input())\n",
    "for n in range(n):\n",
    "    numbers=int(input())\n",
    "    sum1=sum1+numbers\n",
    "    list.append(sum1)\n",
    "print(sum1)    \n"
   ]
  },
  {
   "cell_type": "code",
   "execution_count": 3,
   "metadata": {},
   "outputs": [
    {
     "name": "stdout",
     "output_type": "stream",
     "text": [
      "3\n",
      "4\n",
      "1\n",
      "2\n",
      "8\n"
     ]
    }
   ],
   "source": [
    "list=[]\n",
    "mult1=1\n",
    "n=int(input())\n",
    "for n in range(n):\n",
    "    numbers=int(input())\n",
    "    mult1=mult1*numbers\n",
    "    list.append(mult1)\n",
    "print(mult1)    "
   ]
  },
  {
   "cell_type": "code",
   "execution_count": 4,
   "metadata": {},
   "outputs": [
    {
     "name": "stdout",
     "output_type": "stream",
     "text": [
      "aabc\n",
      "cbaa \n"
     ]
    }
   ],
   "source": [
    "strng=input()\n",
    "strng1=\" \"\n",
    "for i in strng:\n",
    "    strng1=i+strng1\n",
    "print(strng1)\n",
    "    \n",
    "\n"
   ]
  },
  {
   "cell_type": "code",
   "execution_count": null,
   "metadata": {},
   "outputs": [],
   "source": [
    "n=int(input())\n",
    "fact=1\n",
    "def fact(n):\n",
    "    for i in range(1,n+1):\n",
    "        fact=fact+i\n",
    "        return fact\n",
    "print(fact(n))   \n",
    "    \n",
    "    "
   ]
  },
  {
   "cell_type": "code",
   "execution_count": 1,
   "metadata": {},
   "outputs": [
    {
     "name": "stdout",
     "output_type": "stream",
     "text": [
      " is in range\n"
     ]
    }
   ],
   "source": [
    "def test_range(n):\n",
    "    if n in range(3,9):\n",
    "        print(\" is in range\")\n",
    "    else:\n",
    "        print(\"out of range\")\n",
    "test_range(4)         \n",
    "           \n",
    "            \n",
    "    "
   ]
  },
  {
   "cell_type": "code",
   "execution_count": 3,
   "metadata": {},
   "outputs": [
    {
     "name": "stdout",
     "output_type": "stream",
     "text": [
      "FTYRUFYFUTEbhjfs\n",
      "5\n",
      "11\n"
     ]
    }
   ],
   "source": [
    "strng = input()\n",
    "def upper(strng):\n",
    "    count=0\n",
    "    count1=0\n",
    "    for i in strng:\n",
    "            if(i.islower()):\n",
    "                count=count+1\n",
    "            elif(i.isupper()):\n",
    "                count1=count1+1\n",
    "\n",
    "    print(count)\n",
    "    print(count1)\n",
    "\n",
    "upper(strng)"
   ]
  },
  {
   "cell_type": "code",
   "execution_count": null,
   "metadata": {},
   "outputs": [],
   "source": []
  }
 ],
 "metadata": {
  "kernelspec": {
   "display_name": "Python 3",
   "language": "python",
   "name": "python3"
  },
  "language_info": {
   "codemirror_mode": {
    "name": "ipython",
    "version": 3
   },
   "file_extension": ".py",
   "mimetype": "text/x-python",
   "name": "python",
   "nbconvert_exporter": "python",
   "pygments_lexer": "ipython3",
   "version": "3.7.2"
  }
 },
 "nbformat": 4,
 "nbformat_minor": 2
}
