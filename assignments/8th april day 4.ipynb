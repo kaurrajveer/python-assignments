{
 "cells": [
  {
   "cell_type": "code",
   "execution_count": 1,
   "metadata": {},
   "outputs": [
    {
     "name": "stdout",
     "output_type": "stream",
     "text": [
      "i'm rajveer from byte\n"
     ]
    }
   ],
   "source": [
    "x,y='rajveer','byte'\n",
    "print(\"i'm %s from %s\"%(x,y))"
   ]
  },
  {
   "cell_type": "code",
   "execution_count": 7,
   "metadata": {},
   "outputs": [
    {
     "name": "stdout",
     "output_type": "stream",
     "text": [
      "enter value of n1\n",
      "output 3\n"
     ]
    }
   ],
   "source": [
    "n=int(input(\"enter value of n\"))\n",
    "x=n+n*n+n*n*n\n",
    "print(\"output %s\"%(x))\n",
    "\n",
    "\n"
   ]
  },
  {
   "cell_type": "code",
   "execution_count": 8,
   "metadata": {},
   "outputs": [
    {
     "name": "stdout",
     "output_type": "stream",
     "text": [
      "i m rajveer from byte acadmy\n"
     ]
    }
   ],
   "source": [
    "print(\"i m {} from byte acadmy\".format('rajveer'))"
   ]
  },
  {
   "cell_type": "code",
   "execution_count": 10,
   "metadata": {},
   "outputs": [
    {
     "name": "stdout",
     "output_type": "stream",
     "text": [
      "the: lion, s: tiger,d: fox\n"
     ]
    }
   ],
   "source": [
    "print('the: {2}, s: {1},d: {0}'.format('fox','tiger','lion'))"
   ]
  },
  {
   "cell_type": "code",
   "execution_count": 11,
   "metadata": {},
   "outputs": [
    {
     "name": "stdout",
     "output_type": "stream",
     "text": [
      "she said her name is rajveer.\n"
     ]
    }
   ],
   "source": [
    "name='rajveer'\n",
    "print(f\"she said her name is {name}.\")"
   ]
  },
  {
   "cell_type": "code",
   "execution_count": null,
   "metadata": {},
   "outputs": [],
   "source": [
    "n1=int(input(\"enter values of a\"))\n",
    "n2=int(input(\"enter values of b\"))\n",
    "if(n1>n2):\n",
    "    print('a is greater')\n",
    "else:\n",
    "    print('b is greater')\n",
    "\n"
   ]
  },
  {
   "cell_type": "code",
   "execution_count": 6,
   "metadata": {},
   "outputs": [
    {
     "name": "stdout",
     "output_type": "stream",
     "text": [
      "enter value of num5\n",
      "num is odd\n"
     ]
    }
   ],
   "source": [
    "num=int(input(\"enter value of num\"))\n",
    "if(num%2==0):\n",
    "    print('num is even')\n",
    "else:\n",
    "    print('num is odd')\n",
    "    "
   ]
  },
  {
   "cell_type": "code",
   "execution_count": 18,
   "metadata": {},
   "outputs": [
    {
     "name": "stdout",
     "output_type": "stream",
     "text": [
      "enter the alphabet :d\n",
      "c\n"
     ]
    }
   ],
   "source": [
    "# assignment questions\n",
    "L=input('enter the alphabet :')\n",
    "list1=[\"a\",\"e\",\"i\",\"o\",\"u\"]\n",
    "if(L in list1):\n",
    "    print(\"v\")\n",
    "elif(L=='y'):\n",
    "    print(\"alphabet is sometimes vowel and sometime consatnt\")\n",
    "else:\n",
    "    print(\"c\")\n",
    "    \n"
   ]
  },
  {
   "cell_type": "code",
   "execution_count": 21,
   "metadata": {},
   "outputs": [
    {
     "name": "stdout",
     "output_type": "stream",
     "text": [
      "enter the year:-5\n",
      "error\n"
     ]
    }
   ],
   "source": [
    "y=float(input('enter the year:'))\n",
    "if(y>2):\n",
    "    print(10.5+(y-2)*4)\n",
    "elif(y<=2 and y>0):\n",
    "    print(10.5)\n",
    "else:\n",
    "    print(\"error\")\n"
   ]
  },
  {
   "cell_type": "code",
   "execution_count": 8,
   "metadata": {},
   "outputs": [
    {
     "name": "stdout",
     "output_type": "stream",
     "text": [
      "enter the no.of n11\n",
      "error\n"
     ]
    }
   ],
   "source": [
    "n=int(input(\"enter the no.of n\"))\n",
    "if(n==3):\n",
    "    print(\"traingle\")\n",
    "elif(n==4):\n",
    "    print(\"square\")\n",
    "elif(n==5):\n",
    "    print(\"penta\")\n",
    "elif(n==6):\n",
    "    print(\"hexa\")\n",
    "elif(n==7):\n",
    "    print(\"hepta\")\n",
    "elif(n==8):\n",
    "    print(\"octa\")\n",
    "elif(n==9):\n",
    "    print(\"nona\")\n",
    "elif(n==10):\n",
    "    print(\"deca\")\n",
    "else:\n",
    "    print(\"error\")"
   ]
  },
  {
   "cell_type": "code",
   "execution_count": 1,
   "metadata": {},
   "outputs": [
    {
     "name": "stdout",
     "output_type": "stream",
     "text": [
      "enter the month: oct\n",
      "31 days\n"
     ]
    }
   ],
   "source": [
    "m=input(\"enter the month: \")\n",
    "list1=['jan','march','may','july','aug','oct','dec']\n",
    "list2=['april','june','sept','nov']\n",
    "if(m in list1):\n",
    "    print(\"31 days\")\n",
    "elif(m in list2):\n",
    "    print(\"30 days\")\n",
    "else:\n",
    "    print(\"it is leap year\")\n",
    "\n"
   ]
  },
  {
   "cell_type": "code",
   "execution_count": null,
   "metadata": {},
   "outputs": [],
   "source": []
  }
 ],
 "metadata": {
  "kernelspec": {
   "display_name": "Python 3",
   "language": "python",
   "name": "python3"
  },
  "language_info": {
   "codemirror_mode": {
    "name": "ipython",
    "version": 3
   },
   "file_extension": ".py",
   "mimetype": "text/x-python",
   "name": "python",
   "nbconvert_exporter": "python",
   "pygments_lexer": "ipython3",
   "version": "3.7.2"
  }
 },
 "nbformat": 4,
 "nbformat_minor": 2
}
