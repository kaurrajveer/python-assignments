{
 "cells": [
  {
   "cell_type": "code",
   "execution_count": 15,
   "metadata": {},
   "outputs": [
    {
     "name": "stdout",
     "output_type": "stream",
     "text": [
      "enter n:7\n",
      "n is odd, weird\n"
     ]
    }
   ],
   "source": [
    "n=int(input(\"enter n:\"))\n",
    "if(n%2==0) and (n<=2,n>=5):\n",
    "    print(\"not weird\")\n",
    "elif(n%2==0) and (6>=n<20):\n",
    "    print(\"weird\")\n",
    "elif(n%2==0) and (n>20):\n",
    "    print(\"not weird\")\n",
    "elif(n%2!=0) and (n<=0):\n",
    "    print(\"hhgf\")\n",
    "else:\n",
    "    print(\"n is odd, weird\")\n",
    "\n",
    "\n"
   ]
  },
  {
   "cell_type": "code",
   "execution_count": null,
   "metadata": {},
   "outputs": [],
   "source": []
  }
 ],
 "metadata": {
  "kernelspec": {
   "display_name": "Python 3",
   "language": "python",
   "name": "python3"
  },
  "language_info": {
   "codemirror_mode": {
    "name": "ipython",
    "version": 3
   },
   "file_extension": ".py",
   "mimetype": "text/x-python",
   "name": "python",
   "nbconvert_exporter": "python",
   "pygments_lexer": "ipython3",
   "version": "3.7.2"
  }
 },
 "nbformat": 4,
 "nbformat_minor": 2
}
