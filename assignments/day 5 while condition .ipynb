{
 "cells": [
  {
   "cell_type": "code",
   "execution_count": 3,
   "metadata": {},
   "outputs": [
    {
     "name": "stdout",
     "output_type": "stream",
     "text": [
      "no.is lesser then 10\n",
      "no.is lesser then 10\n",
      "no.is lesser then 10\n",
      "no.is lesser then 10\n",
      "no.is lesser then 10\n",
      "no.is lesser then 10\n",
      "no.is lesser then 10\n",
      "no.is lesser then 10\n",
      "no.is lesser then 10\n",
      "no.is lesser then 10\n",
      "no. is greater then 10\n"
     ]
    }
   ],
   "source": [
    "n=0\n",
    "while n<10:\n",
    "    print(\"no.is lesser then 10\")\n",
    "    n=n+1\n",
    "else:\n",
    "    print(\"no. is greater then 10\")"
   ]
  },
  {
   "cell_type": "code",
   "execution_count": 5,
   "metadata": {},
   "outputs": [
    {
     "name": "stdout",
     "output_type": "stream",
     "text": [
      "1\n",
      "2\n",
      "5\n",
      "8\n"
     ]
    }
   ],
   "source": [
    "list=[1,2,5,8]\n",
    "for x in list:\n",
    "    print(x)\n"
   ]
  },
  {
   "cell_type": "code",
   "execution_count": null,
   "metadata": {},
   "outputs": [],
   "source": [
    "try:\n",
    "    age=int(input('enter the age:'))\n",
    "    print(\"my age is\",age)\n",
    "except:\n",
    "    print('ivalid ')\n",
    "    "
   ]
  },
  {
   "cell_type": "code",
   "execution_count": 2,
   "metadata": {},
   "outputs": [
    {
     "name": "stdout",
     "output_type": "stream",
     "text": [
      "2\n",
      "4\n",
      "6\n",
      "8\n"
     ]
    }
   ],
   "source": [
    "#nested \n",
    "l=[1,2,3,4,5,6,7,8]\n",
    "for n in l:\n",
    "    if(n%2==0):\n",
    "        print(n)\n",
    "        \n"
   ]
  },
  {
   "cell_type": "code",
   "execution_count": 6,
   "metadata": {},
   "outputs": [
    {
     "name": "stdout",
     "output_type": "stream",
     "text": [
      "0\n",
      "1\n",
      "2\n",
      "3\n",
      "4\n"
     ]
    }
   ],
   "source": [
    "#range \n",
    "for i in range(5):\n",
    "        print(i)\n",
    "     "
   ]
  },
  {
   "cell_type": "code",
   "execution_count": 1,
   "metadata": {},
   "outputs": [
    {
     "name": "stdout",
     "output_type": "stream",
     "text": [
      "enter no.5\n",
      "0\n",
      "5\n"
     ]
    }
   ],
   "source": [
    "num=int(input('enter no.'))\n",
    "for i in range(10):\n",
    "    if(i%num==0):\n",
    "        print(i)\n",
    "    \n",
    "    "
   ]
  },
  {
   "cell_type": "code",
   "execution_count": 1,
   "metadata": {},
   "outputs": [
    {
     "name": "stdout",
     "output_type": "stream",
     "text": [
      "enter no.10\n",
      "1\n",
      "3\n",
      "5\n",
      "7\n",
      "9\n"
     ]
    }
   ],
   "source": [
    "num=int(input('enter no.'))\n",
    "for i in range(num):\n",
    "    if(i%2==1):\n",
    "        print(i)"
   ]
  },
  {
   "cell_type": "code",
   "execution_count": 3,
   "metadata": {},
   "outputs": [
    {
     "name": "stdout",
     "output_type": "stream",
     "text": [
      "enter number, 321\n",
      "6\n"
     ]
    }
   ],
   "source": [
    "n=input(\"enter number, \")\n",
    "sum=0\n",
    "for i in n:\n",
    "    sum +=int(i)\n",
    "print(sum)    \n",
    "    \n"
   ]
  },
  {
   "cell_type": "code",
   "execution_count": 4,
   "metadata": {},
   "outputs": [
    {
     "name": "stdout",
     "output_type": "stream",
     "text": [
      "enter marks of sub1 0\n",
      "enter marks of sub2 60\n",
      "enter marks of sub3 70\n",
      "enter marks of sub4 80\n",
      "enter marks of sub5 90\n",
      "fail\n",
      "grade C\n",
      "grade B\n",
      "grade B\n",
      "grade A\n"
     ]
    }
   ],
   "source": [
    "n1=int(input(\"enter marks of sub1 \"))\n",
    "n2=int(input(\"enter marks of sub2 \"))\n",
    "n3=int(input(\"enter marks of sub3 \"))\n",
    "n4=int(input(\"enter marks of sub4 \"))\n",
    "n5=int(input(\"enter marks of sub5 \"))\n",
    "\n",
    "if (n1>=90):\n",
    "    print(\"grade A\")\n",
    "elif(n1<90 and n1>=70):\n",
    "    print(\"grade B\")\n",
    "elif(n1<80 and n1>=60):\n",
    "    print(\"grade C\")\n",
    "elif(n1<70 and n1>=30):\n",
    "    print(\"grade D\")\n",
    "elif(n1<30):\n",
    "    print(\"fail\")\n",
    "    \n",
    "if (n2>=90):\n",
    "    print(\"grade A\")\n",
    "elif(n2<90 and n2>=70):\n",
    "    print(\"grade B\")\n",
    "elif(n2<80 and n2>=60):\n",
    "    print(\"grade C\")\n",
    "elif(n2<70 and n2>=30):\n",
    "    print(\"grade D\")\n",
    "elif(n2<30):\n",
    "    print(\"fail\")\n",
    "    \n",
    "if (n3>=90):\n",
    "    print(\"grade A\")\n",
    "elif(n3<90 and n3>=70):\n",
    "    print(\"grade B\")\n",
    "elif(n3<80 and n3>=60):\n",
    "    print(\"grade C\")\n",
    "elif(n3<70 and n3>=30):\n",
    "    print(\"grade D\")\n",
    "elif(n3<30):\n",
    "    print(\"fail\")\n",
    "    \n",
    "if (n4>=90):\n",
    "    print(\"grade A\")\n",
    "elif(n4<90 and n4>=70):\n",
    "    print(\"grade B\")\n",
    "elif(n4<80 and n4>=60):\n",
    "    print(\"grade C\")\n",
    "elif(n4<70 and n4>=30):\n",
    "    print(\"grade D\")\n",
    "elif(n4<30):\n",
    "    print(\"fail\")\n",
    "        \n",
    "if (n5>=90):\n",
    "    print(\"grade A\")\n",
    "elif(n5<90 and n5>=70):\n",
    "    print(\"grade B\")\n",
    "elif(n5<80 and n5>=60):\n",
    "    print(\"grade C\")\n",
    "elif(n5<70 and n5>=30):\n",
    "    print(\"grade D\")\n",
    "elif(n5<30):\n",
    "    print(\"fail\")\n",
    "       \n"
   ]
  },
  {
   "cell_type": "code",
   "execution_count": 2,
   "metadata": {},
   "outputs": [
    {
     "name": "stdout",
     "output_type": "stream",
     "text": [
      "enter marks of sub1 70\n",
      "grade B\n"
     ]
    }
   ],
   "source": [
    "n1=int(input(\"enter marks of sub1 \"))\n",
    "if (n1>=90):\n",
    "    print(\"grade A\")\n",
    "elif(n1<90 and n1>=70):\n",
    "    print(\"grade B\")\n",
    "elif(n1<80 and n1>=60):\n",
    "    print(\"grade C\")\n",
    "elif(n1<70 and n1>=30):\n",
    "    print(\"grade D\")\n",
    "elif(n1<30):\n",
    "    print(\"fail\")"
   ]
  },
  {
   "cell_type": "code",
   "execution_count": null,
   "metadata": {},
   "outputs": [],
   "source": [
    "num=int(input(\"enter range \"))\n",
    "for i in range(num):\n",
    "    n=int(input(\"enter mmbr age \"))\n",
    "    if(n<=2):\n",
    "        c=i*0\n",
    "        print(c)\n",
    "    elif(n<=3 and n>=12):\n",
    "        c1=i*14\n",
    "        print(c1)\n",
    "    elif(n<=65):\n",
    "        c2=i*18\n",
    "        print(c2)\n",
    "    else:\n",
    "        c3=i*23\n",
    "        print(c3)\n",
    "totl_sum=c+c1+c2+c3\n",
    "print(total_sum)\n",
    "        \n",
    "        \n",
    "        \n",
    "\n",
    "\n",
    "    \n",
    "    \n",
    "    \n",
    "    \n",
    "\n"
   ]
  },
  {
   "cell_type": "code",
   "execution_count": null,
   "metadata": {},
   "outputs": [],
   "source": []
  }
 ],
 "metadata": {
  "kernelspec": {
   "display_name": "Python 3",
   "language": "python",
   "name": "python3"
  },
  "language_info": {
   "codemirror_mode": {
    "name": "ipython",
    "version": 3
   },
   "file_extension": ".py",
   "mimetype": "text/x-python",
   "name": "python",
   "nbconvert_exporter": "python",
   "pygments_lexer": "ipython3",
   "version": "3.7.2"
  }
 },
 "nbformat": 4,
 "nbformat_minor": 2
}
